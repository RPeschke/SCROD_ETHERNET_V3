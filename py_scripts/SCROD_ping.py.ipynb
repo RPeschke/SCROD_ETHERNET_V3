{
 "cells": [
  {
   "cell_type": "code",
   "execution_count": 1,
   "metadata": {},
   "outputs": [],
   "source": [
    "import socket\n",
    "import array\n",
    "def ToEventNumber(Data,Index):\n",
    "    ret_h = 0\n",
    "    \n",
    "    ret_h += (Data[Index])\n",
    "    ret_h += 0x100*(Data[Index+1])\n",
    "    ret_h += 0x10000*(Data[Index+2])\n",
    "    ret_h += 0x1000000*(Data[Index+3])\n",
    "    return ret_h\n",
    "\n",
    "def ToEventNumber1(Data,Index):\n",
    "    ret_h = 0\n",
    "    d = data[Index]\n",
    "    ret_h += 256*256*256*(Data[Index])\n",
    "    ret_h += 256*256*(Data[Index+1])\n",
    "    ret_l =0 \n",
    "    ret_h += 256*(Data[Index+2])\n",
    "    ret_h += (Data[Index+3])\n",
    "    return ret_h\n",
    "\n",
    "def ToEventNumber2(Data,Index):\n",
    "    ret_h = ''\n",
    "    \n",
    "    ret_h += chr(Data[Index+3])\n",
    "    ret_h += chr(Data[Index+2])\n",
    "    ret_h += chr(Data[Index+1])\n",
    "    ret_h += chr(Data[Index])\n",
    "\n",
    "    return ret_h\n",
    "\n",
    "\n",
    "def ArrayToHex(Data):\n",
    "    for j in range(0,len(Data),4):\n",
    "        #print(str(Data[j]),str(Data[j+1]),str(Data[j+2]),str(Data[j+3]))\n",
    "        #print(EventToHex(data,j))\n",
    "        print(hex(ToEventNumber(Data,j)))\n",
    "        \n",
    "        \n",
    "def EventToHex(Data,Index):\n",
    "    return hex(Data[Index+3]),hex(Data[Index+2]),hex(Data[Index+1]),hex(Data[Index])"
   ]
  },
  {
   "cell_type": "code",
   "execution_count": 31,
   "metadata": {},
   "outputs": [],
   "source": [
    " import numpy as np\n",
    "UDP_IP = \"192.168.1.33\"\n",
    "UDP_PORT = 2001\n",
    "WORD_HEADER_C    =  0x00BE11E2\n",
    "WORD_COMMAND_C   =  0x646F6974\n",
    "wordScrodRevC    =  0x00000000 \n",
    "Word_command_ID  =  0x00000012\n",
    "WORD_PING_C      =  0x70696E67\n",
    "WORD_READ_C      =  0x72656164\n",
    "WORD_WRITE_C     =  0x72697465\n",
    "WORD_ACK_C       =  0x6F6B6179\n",
    "WORD_ERR_C       =  0x7768613F\n",
    "\n",
    "\n",
    "#proto_message = [WORD_HEADER_C, 0x00000006,WORD_COMMAND_C,wordScrodRevC, Word_command_ID, WORD_PING_C]      #original\n",
    "proto_message = [WORD_HEADER_C, 0x00000007,WORD_COMMAND_C,wordScrodRevC, Word_command_ID, WORD_WRITE_C, 0x00000000] #simple read\n",
    "#proto_message = [WORD_PING_C, Word_command_ID, wordScrodRevC, WORD_COMMAND_C, 0x00000005, WORD_HEADER_C]    #flip, does not work in python 3\n",
    "checksum = sum(proto_message[4:7])\n",
    "proto_message.append(checksum)\n",
    "s = str(sum(proto_message))\n",
    "\n",
    "s= int(np.uint32(s))\n",
    "proto_message.append(s)\n",
    "#proto_message.append(WORD_HEADER_C)\n",
    "proto_message.append(WORD_HEADER_C)\n",
    "#MESSAGE = bytes([WORD_HEADER_C, 0x00000004,WORD_COMMAND_C,wordScrodRevC,Word_command_ID, WORD_PING_C, 0x70696E67, 0x00000000])\n",
    "\n"
   ]
  },
  {
   "cell_type": "code",
   "execution_count": 3,
   "metadata": {},
   "outputs": [
    {
     "name": "stdout",
     "output_type": "stream",
     "text": [
      "6789434996\n",
      "2494467700\n"
     ]
    }
   ],
   "source": [
    "s = str(sum(proto_message))\n",
    "\n",
    "print(s)\n",
    "s= int(np.uint32(s))\n",
    "print(s)"
   ]
  },
  {
   "cell_type": "code",
   "execution_count": 32,
   "metadata": {},
   "outputs": [
    {
     "name": "stdout",
     "output_type": "stream",
     "text": [
      "0xbe11e2\n",
      "0x7\n",
      "0x646f6974\n",
      "0x0\n",
      "0x12\n",
      "0x72697465\n",
      "0x0\n",
      "0x72697477\n",
      "0x4a00644b\n",
      "0xbe11e2\n"
     ]
    }
   ],
   "source": [
    "message = []\n",
    "for x in proto_message:\n",
    "    message+=(x.to_bytes(4,'little'))\n",
    "\n",
    "ArrayToHex(message)"
   ]
  },
  {
   "cell_type": "code",
   "execution_count": 5,
   "metadata": {},
   "outputs": [
    {
     "data": {
      "text/plain": [
       "'0xe2'"
      ]
     },
     "execution_count": 5,
     "metadata": {},
     "output_type": "execute_result"
    }
   ],
   "source": [
    "hex(message[0])"
   ]
  },
  {
   "cell_type": "code",
   "execution_count": 6,
   "metadata": {},
   "outputs": [
    {
     "data": {
      "text/plain": [
       "'0x646f6974'"
      ]
     },
     "execution_count": 6,
     "metadata": {},
     "output_type": "execute_result"
    }
   ],
   "source": [
    "hex(proto_message[2])"
   ]
  },
  {
   "cell_type": "code",
   "execution_count": 7,
   "metadata": {},
   "outputs": [
    {
     "name": "stdout",
     "output_type": "stream",
     "text": [
      "[226, 17, 190, 0, 7, 0, 0, 0, 116, 105, 111, 100, 0, 0, 0, 0, 18, 0, 0, 0, 100, 97, 101, 114, 0, 0, 0, 0, 118, 97, 101, 114, 73, 62, 248, 73, 226, 17, 190, 0]\n"
     ]
    }
   ],
   "source": [
    "print(message)"
   ]
  },
  {
   "cell_type": "code",
   "execution_count": 33,
   "metadata": {
    "scrolled": true
   },
   "outputs": [
    {
     "name": "stdout",
     "output_type": "stream",
     "text": [
      "UDP Target Address: 192.168.1.33\n",
      "UDP Target Port: 2001\n",
      "Sent message...\n",
      "0xbe11e2\n",
      "0x7\n",
      "0x646f6974\n",
      "0x0\n",
      "0x12\n",
      "0x72697465\n",
      "0x0\n",
      "0x72697477\n",
      "0x4a00644b\n",
      "0xbe11e2\n",
      "\n",
      "\n",
      "recv message...\n",
      "0xbe11e2\n",
      "0x7\n",
      "0x646f6974\n",
      "0x0\n",
      "0x12\n",
      "0x72697465\n",
      "0x0\n",
      "0x72697477\n",
      "0x4a00644b\n"
     ]
    }
   ],
   "source": [
    "print(\"UDP Target Address:\", UDP_IP)\n",
    "print(\"UDP Target Port:\", UDP_PORT)\n",
    "#print(\"Message:\", message)\n",
    "\n",
    "clientSock = socket.socket(socket.AF_INET, socket.SOCK_DGRAM)\n",
    "str1=array.array('B', message).tostring()\n",
    "\n",
    "print(\"Sent message...\")\n",
    "ArrayToHex(str1)\n",
    "clientSock.sendto(str1, (UDP_IP, UDP_PORT))\n",
    "\n",
    "\n",
    "data, addr = clientSock.recvfrom(4096)      #1024 bytes\n",
    "\n",
    "print(\"\\n\\nrecv message...\")\n",
    "ArrayToHex(data)\n",
    "\n",
    "#print(addr)"
   ]
  },
  {
   "cell_type": "code",
   "execution_count": null,
   "metadata": {},
   "outputs": [],
   "source": [
    "len(str1)"
   ]
  },
  {
   "cell_type": "code",
   "execution_count": null,
   "metadata": {},
   "outputs": [],
   "source": [
    "hex(119),hex(104),hex(97),hex(63)"
   ]
  },
  {
   "cell_type": "code",
   "execution_count": null,
   "metadata": {},
   "outputs": [],
   "source": [
    "ToEventNumber1()"
   ]
  },
  {
   "cell_type": "code",
   "execution_count": null,
   "metadata": {},
   "outputs": [],
   "source": [
    "data=0xe211be000500000074696f640000000012000000676e6970d4e996d5\n",
    "\n"
   ]
  }
 ],
 "metadata": {
  "kernelspec": {
   "display_name": "Python 3",
   "language": "python",
   "name": "python3"
  },
  "language_info": {
   "codemirror_mode": {
    "name": "ipython",
    "version": 3
   },
   "file_extension": ".py",
   "mimetype": "text/x-python",
   "name": "python",
   "nbconvert_exporter": "python",
   "pygments_lexer": "ipython3",
   "version": "3.7.0"
  }
 },
 "nbformat": 4,
 "nbformat_minor": 2
}
